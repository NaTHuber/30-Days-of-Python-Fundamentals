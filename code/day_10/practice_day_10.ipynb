{
 "cells": [
  {
   "cell_type": "markdown",
   "id": "97779161",
   "metadata": {},
   "source": [
    "# Tasks \n",
    "\n",
    "1. Import the datetime module and print today’s date.\n",
    "2. From the random module, import only choice and use it to select a random element from a list of fruits.\n",
    "3. Create your own module (converter.py) with: celsius_to_fahrenheit(c) fahrenheit_to_celsius(f)\n",
    "4. Import and test it in another script.\n",
    "5. Use math with an alias (m) to calculate:\n",
    "    - Square root of 81\n",
    "    - Cosine of 0\n",
    "    - Value of e"
   ]
  },
  {
   "cell_type": "code",
   "execution_count": 1,
   "id": "940b593a",
   "metadata": {},
   "outputs": [
    {
     "name": "stdout",
     "output_type": "stream",
     "text": [
      "Current date and time: 2025-08-27 18:15:14.383763\n"
     ]
    }
   ],
   "source": [
    "# Task 1. Import the datetime module and print the current date and time.\n",
    "import datetime\n",
    "now = datetime.datetime.now()\n",
    "print(\"Current date and time:\", now)"
   ]
  },
  {
   "cell_type": "code",
   "execution_count": 3,
   "id": "f9b49358",
   "metadata": {},
   "outputs": [
    {
     "name": "stdout",
     "output_type": "stream",
     "text": [
      "Randomly selected fruit: apple\n"
     ]
    }
   ],
   "source": [
    "# Task 2. \n",
    "from random import choice\n",
    "fruits = ['apple', 'banana', 'cherry', 'date']\n",
    "random_fruit = choice(fruits)\n",
    "print(\"Randomly selected fruit:\", random_fruit)"
   ]
  },
  {
   "cell_type": "code",
   "execution_count": 4,
   "id": "780a51ae",
   "metadata": {},
   "outputs": [
    {
     "name": "stdout",
     "output_type": "stream",
     "text": [
      "Square root of 81: 9.0\n",
      "Cosine of 0: 1.0\n",
      "Value of e: 2.718281828459045\n"
     ]
    }
   ],
   "source": [
    "# Task 5. Use math with an alias (m) \n",
    "import math as m \n",
    "square_root = m.sqrt(81)\n",
    "cosine_value = m.cos(0)\n",
    "e = m.e\n",
    "print(\"Square root of 81:\", square_root)\n",
    "print(\"Cosine of 0:\", cosine_value) \n",
    "print(\"Value of e:\", e)"
   ]
  }
 ],
 "metadata": {
  "kernelspec": {
   "display_name": "Python 3",
   "language": "python",
   "name": "python3"
  },
  "language_info": {
   "codemirror_mode": {
    "name": "ipython",
    "version": 3
   },
   "file_extension": ".py",
   "mimetype": "text/x-python",
   "name": "python",
   "nbconvert_exporter": "python",
   "pygments_lexer": "ipython3",
   "version": "3.12.7"
  }
 },
 "nbformat": 4,
 "nbformat_minor": 5
}
