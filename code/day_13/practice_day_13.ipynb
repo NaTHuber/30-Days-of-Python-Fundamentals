{
 "cells": [
  {
   "cell_type": "markdown",
   "id": "58c54d5b",
   "metadata": {},
   "source": [
    "# Tasks \n",
    "\n",
    "1. Basic Access: Given word = \"Programming\", print:\n",
    "    - The first letter.\n",
    "    - The last three letters.\n",
    "    - The word reversed.\n",
    "2. String Methods: Take the string `\" learning python is FUN! \"`\n",
    "    - Remove extra spaces.\n",
    "    - Convert to lowercase.\n",
    "    - Replace \"fun\" with \"awesome\".\n",
    "3. Counting Words: Write a program that counts how many times the word \"Python\" appears in this text:\n",
    "    ```python\n",
    "    text = \"I am enjoying learning Python. Python is great for data science.\"\n",
    "    ```\n",
    "4. Palindrome Checker: Write a function that checks if a string is a palindrome (the same forwards and backwards).\n",
    "5. String Formatting: Create a program that asks the user for their name and favorite hobby, then prints a message including them. "
   ]
  },
  {
   "cell_type": "code",
   "execution_count": 4,
   "id": "f52c8939",
   "metadata": {},
   "outputs": [
    {
     "name": "stdout",
     "output_type": "stream",
     "text": [
      "First letter: P\n",
      "Last three letters: ing\n",
      "Reversed word: gnimmargorP\n"
     ]
    }
   ],
   "source": [
    "# Task 1. \n",
    "word = \"Programming\"\n",
    "print(\"First letter:\", word[0])\n",
    "print(\"Last three letters:\", word[-3:])\n",
    "print(\"Reversed word:\", word[::-1])"
   ]
  },
  {
   "cell_type": "code",
   "execution_count": 6,
   "id": "c892371b",
   "metadata": {},
   "outputs": [
    {
     "name": "stdout",
     "output_type": "stream",
     "text": [
      "Original text:  learning python is FUN! \n",
      "Tripped text: learning python is FUN!\n",
      "Lowercase text: learning python is fun!\n",
      "Final text: learning python is awesome!\n"
     ]
    }
   ],
   "source": [
    "# Task 2. \n",
    "text = \" learning python is FUN! \"\n",
    "tripped_text = text.strip()\n",
    "lower_text = tripped_text.lower()\n",
    "final_text = lower_text.replace(\"fun\", \"awesome\")\n",
    "print(\"Original text:\", text)\n",
    "print(\"Tripped text:\", tripped_text)\n",
    "print(\"Lowercase text:\", lower_text)\n",
    "print(\"Final text:\", final_text)"
   ]
  },
  {
   "cell_type": "code",
   "execution_count": 7,
   "id": "104d0bdd",
   "metadata": {},
   "outputs": [
    {
     "name": "stdout",
     "output_type": "stream",
     "text": [
      "The word 'Python' appears 2 times.\n"
     ]
    }
   ],
   "source": [
    "# Task 3. \n",
    "text = \"I am enjoying learning Python. Python is great for data science.\"\n",
    "lower_text = text.lower()\n",
    "count_python = lower_text.count(\"python\")\n",
    "print(\"The word 'Python' appears\", count_python, \"times.\")"
   ]
  },
  {
   "cell_type": "code",
   "execution_count": 8,
   "id": "0555adc5",
   "metadata": {},
   "outputs": [
    {
     "name": "stdout",
     "output_type": "stream",
     "text": [
      "Is the string 'Hannah' a palindrome? True\n"
     ]
    }
   ],
   "source": [
    "# Task 4. \n",
    "string = \"Hannah\"\n",
    "is_palindrome = string.lower() == string[::-1].lower()\n",
    "print(f\"Is the string '{string}' a palindrome? {is_palindrome}\")"
   ]
  },
  {
   "cell_type": "code",
   "execution_count": 10,
   "id": "c3ca258a",
   "metadata": {},
   "outputs": [
    {
     "name": "stdout",
     "output_type": "stream",
     "text": [
      "Hello, Marcel! I see you enjoy games.\n"
     ]
    }
   ],
   "source": [
    "# Task 5. \n",
    "name = input(\"Enter your name: \")\n",
    "hobby = input(\"Enter your hobby: \")\n",
    "print(f\"Hello, {name}! I see you enjoy {hobby}.\")"
   ]
  }
 ],
 "metadata": {
  "kernelspec": {
   "display_name": "Python 3",
   "language": "python",
   "name": "python3"
  },
  "language_info": {
   "codemirror_mode": {
    "name": "ipython",
    "version": 3
   },
   "file_extension": ".py",
   "mimetype": "text/x-python",
   "name": "python",
   "nbconvert_exporter": "python",
   "pygments_lexer": "ipython3",
   "version": "3.12.7"
  }
 },
 "nbformat": 4,
 "nbformat_minor": 5
}
