{
 "cells": [
  {
   "cell_type": "markdown",
   "id": "58c54d5b",
   "metadata": {},
   "source": [
    "# Tasks \n",
    "\n",
    "1. Basic Access: Given word = \"Programming\", print:\n",
    "    - The first letter.\n",
    "    - The last three letters.\n",
    "    - The word reversed.\n",
    "2. String Methods: Take the string `\" learning python is FUN! \"`\n",
    "    - Remove extra spaces.\n",
    "    - Convert to lowercase.\n",
    "    - Replace \"fun\" with \"awesome\"."
   ]
  },
  {
   "cell_type": "code",
   "execution_count": 4,
   "id": "f52c8939",
   "metadata": {},
   "outputs": [
    {
     "name": "stdout",
     "output_type": "stream",
     "text": [
      "First letter: P\n",
      "Last three letters: ing\n",
      "Reversed word: gnimmargorP\n"
     ]
    }
   ],
   "source": [
    "# Task 1. \n",
    "word = \"Programming\"\n",
    "print(\"First letter:\", word[0])\n",
    "print(\"Last three letters:\", word[-3:])\n",
    "print(\"Reversed word:\", word[::-1])"
   ]
  },
  {
   "cell_type": "code",
   "execution_count": 6,
   "id": "c892371b",
   "metadata": {},
   "outputs": [
    {
     "name": "stdout",
     "output_type": "stream",
     "text": [
      "Original text:  learning python is FUN! \n",
      "Tripped text: learning python is FUN!\n",
      "Lowercase text: learning python is fun!\n",
      "Final text: learning python is awesome!\n"
     ]
    }
   ],
   "source": [
    "# Task 2. \n",
    "text = \" learning python is FUN! \"\n",
    "tripped_text = text.strip()\n",
    "lower_text = tripped_text.lower()\n",
    "final_text = lower_text.replace(\"fun\", \"awesome\")\n",
    "print(\"Original text:\", text)\n",
    "print(\"Tripped text:\", tripped_text)\n",
    "print(\"Lowercase text:\", lower_text)\n",
    "print(\"Final text:\", final_text)"
   ]
  }
 ],
 "metadata": {
  "kernelspec": {
   "display_name": "Python 3",
   "language": "python",
   "name": "python3"
  },
  "language_info": {
   "codemirror_mode": {
    "name": "ipython",
    "version": 3
   },
   "file_extension": ".py",
   "mimetype": "text/x-python",
   "name": "python",
   "nbconvert_exporter": "python",
   "pygments_lexer": "ipython3",
   "version": "3.12.7"
  }
 },
 "nbformat": 4,
 "nbformat_minor": 5
}
