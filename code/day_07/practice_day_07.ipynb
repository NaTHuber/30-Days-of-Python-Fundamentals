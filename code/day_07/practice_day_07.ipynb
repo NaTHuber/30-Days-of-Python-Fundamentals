{
 "cells": [
  {
   "cell_type": "markdown",
   "id": "f3040ead",
   "metadata": {},
   "source": [
    "# Tasks \n",
    "1. Create a list with numbers from 1 to 10 and print only the even ones.\n",
    "2. Create a list with numbers from 1 to 5 and print their squares.\n",
    "3. Given a list of strings, create a new list with only those that start with the letter \"A\".\n",
    "4. From a list of temperatures in Celsius, create a new list with the values converted to Fahrenheit.\n",
    "5. Flatten a list of lists using list comprehension:\n",
    "    ```python \n",
    "    matrix = [[1, 2], [3, 4], [5, 6]]\n",
    "    # Expected output: [1, 2, 3, 4, 5, 6]\n",
    "    ```` "
   ]
  },
  {
   "cell_type": "code",
   "execution_count": 4,
   "id": "8a232108",
   "metadata": {},
   "outputs": [
    {
     "name": "stdout",
     "output_type": "stream",
     "text": [
      "[2, 4, 6, 8, 10]\n"
     ]
    }
   ],
   "source": [
    "# Task 1 Create a list with numbers from 1 to 10 and print only the even ones.\n",
    "numbers = list(range(1, 11))\n",
    "even_numbers = [num for num in numbers if num % 2 == 0] \n",
    "print(even_numbers)"
   ]
  },
  {
   "cell_type": "code",
   "execution_count": null,
   "id": "13afad73",
   "metadata": {},
   "outputs": [
    {
     "name": "stdout",
     "output_type": "stream",
     "text": [
      "[1, 4, 9, 16, 25]\n"
     ]
    }
   ],
   "source": [
    "# Task 2. Create a list with numbers from 1 to 5 and print their squares.\n",
    "squares = [num**2 for num in list(range(1,6))]\n",
    "print(squares)"
   ]
  },
  {
   "cell_type": "code",
   "execution_count": null,
   "id": "6fda028b",
   "metadata": {},
   "outputs": [
    {
     "name": "stdout",
     "output_type": "stream",
     "text": [
      "['Apple', 'Avocado']\n",
      "['Apple', 'Avocado']\n"
     ]
    }
   ],
   "source": [
    "# Task 3. Given a list of strings, create a new list with only those that start with the letter \"A\".\n",
    "list_of_strings = [\"Apple\", \"Banana\", \"Avocado\", \"Cherry\"]\n",
    "filtered_strings = [s for s in list_of_strings if s.startswith(\"A\")]\n",
    "print(filtered_strings)\n",
    "# Second solution \n",
    "filtered_strings = [s for s in list_of_strings if s[0].lower() == \"a\"]\n",
    "print(filtered_strings)"
   ]
  },
  {
   "cell_type": "code",
   "execution_count": 7,
   "id": "f992dbf7",
   "metadata": {},
   "outputs": [
    {
     "name": "stdout",
     "output_type": "stream",
     "text": [
      "[32.0, 68.0, 98.6, 212.0]\n"
     ]
    }
   ],
   "source": [
    "# Task 4. From a list of temperatures in Celsius, create a new list with the values converted to Fahrenheit.\n",
    "celcius_temps = [0, 20, 37, 100]\n",
    "fahrenheit_temps = [(temp * 9/5) + 32 for temp in celcius_temps]\n",
    "print(fahrenheit_temps)"
   ]
  },
  {
   "cell_type": "code",
   "execution_count": 19,
   "id": "8f8fb0ef",
   "metadata": {},
   "outputs": [
    {
     "name": "stdout",
     "output_type": "stream",
     "text": [
      "[1, 2, 3, 4, 5, 6]\n",
      "[1, 2, 3, 4, 5, 6]\n"
     ]
    }
   ],
   "source": [
    "# Task 5. Flatten a list of lists using list comprehension:\n",
    "matrix = [[1, 2], [3, 4], [5, 6]]\n",
    "flattened_matrix = [item for sublist in matrix for item in sublist]\n",
    "print(flattened_matrix)\n",
    "\n",
    "# Alternative way to flatten a list of lists\n",
    "flattened_matrix = []\n",
    "# Using nested loops\n",
    "for sublist in matrix:\n",
    "    for item in sublist:\n",
    "        flattened_matrix.append(item)\n",
    "print(flattened_matrix)\n"
   ]
  }
 ],
 "metadata": {
  "kernelspec": {
   "display_name": "Python 3",
   "language": "python",
   "name": "python3"
  },
  "language_info": {
   "codemirror_mode": {
    "name": "ipython",
    "version": 3
   },
   "file_extension": ".py",
   "mimetype": "text/x-python",
   "name": "python",
   "nbconvert_exporter": "python",
   "pygments_lexer": "ipython3",
   "version": "3.12.7"
  }
 },
 "nbformat": 4,
 "nbformat_minor": 5
}
