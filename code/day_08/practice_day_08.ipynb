{
 "cells": [
  {
   "cell_type": "markdown",
   "id": "3c025eae",
   "metadata": {},
   "source": [
    "# Tasks \n",
    "\n",
    "1. Create a dictionary to store information about your favorite movie (title, year, genre, director) and print it.\n",
    "2. From the movie dictionary, update the year, and add a new key \"rating\".\n",
    "3. Write a program that counts the frequency of each word in a given string.\n",
    "4. Create a nested dictionary with 3 students, each having \"name\", \"age\", and \"grades\" (list). Then:\n",
    "    - Print each student's average grade.\n",
    "    - Add a new student."
   ]
  },
  {
   "cell_type": "code",
   "execution_count": 1,
   "id": "1ca9ace1",
   "metadata": {},
   "outputs": [],
   "source": [
    "# Task 1\n",
    "favorite_movie = {\n",
    "    \"title\":\"Eternal Sunshine of the Spotless Mind\",\n",
    "    \"year\": 2005,   \n",
    "    \"director\": \"Michel Gondry\",\n",
    "    \"actors\": [\"Jim Carrey\", \"Kate Winslet\", \"Kirsten Dunst\", \"Mark Ruffalo\"],\n",
    "    \"genre\": \"Science Fiction - Romance\"\n",
    "}"
   ]
  },
  {
   "cell_type": "code",
   "execution_count": 2,
   "id": "815c6039",
   "metadata": {},
   "outputs": [
    {
     "name": "stdout",
     "output_type": "stream",
     "text": [
      "{'title': 'Eternal Sunshine of the Spotless Mind', 'year': 2004, 'director': 'Michel Gondry', 'actors': ['Jim Carrey', 'Kate Winslet', 'Kirsten Dunst', 'Mark Ruffalo'], 'genre': 'Science Fiction - Romance', 'rating': 8.3}\n"
     ]
    }
   ],
   "source": [
    "# Task 2\n",
    "favorite_movie[\"year\"] = 2004\n",
    "favorite_movie[\"rating\"] = 8.3\n",
    "print(favorite_movie)"
   ]
  },
  {
   "cell_type": "code",
   "execution_count": 4,
   "id": "03f86030",
   "metadata": {},
   "outputs": [
    {
     "name": "stdout",
     "output_type": "stream",
     "text": [
      "{'hello': 3, 'natalia': 1, 'marcel': 1, 'everyone': 1}\n"
     ]
    }
   ],
   "source": [
    "# Task 3\n",
    "phrase = \"Hello Natalia, hello Marcel, hello everyone!\"\n",
    "words = {}\n",
    "\n",
    "for word in phrase.split():\n",
    "    word = word.strip(\",.!?\")  # Remove punctuation\n",
    "    word = word.lower()  # Normalize to lowercase\n",
    "    if word in words:\n",
    "        words[word] += 1\n",
    "    else:\n",
    "        words[word] = 1\n",
    "print(words)"
   ]
  },
  {
   "cell_type": "code",
   "execution_count": null,
   "id": "7c511868",
   "metadata": {},
   "outputs": [
    {
     "name": "stdout",
     "output_type": "stream",
     "text": [
      "{'student1': 87.5, 'student2': 90.0, 'student3': 92.0}\n"
     ]
    }
   ],
   "source": [
    "# Task 4. \n",
    "students = {\n",
    "    \"student1\": {\n",
    "        \"name\": \"Natalia\",\n",
    "        \"age\": 20,\n",
    "        \"courses\": [\"Math\", \"Science\"],\n",
    "        \"grades\": {\n",
    "            \"Math\": 90, \n",
    "            \"Science\": 85\n",
    "        }\n",
    "    },\n",
    "    \"student2\": {\n",
    "        \"name\": \"Naomi\",\n",
    "        \"age\": 22,\n",
    "        \"courses\": [\"History\", \"Art\"],\n",
    "        \"grades\": {\n",
    "            \"History\": 88, \n",
    "            \"Art\": 92\n",
    "        }\n",
    "    },\n",
    "    \"student3\": {\n",
    "        \"name\": \"Marcel\",\n",
    "        \"age\": 21,\n",
    "        \"courses\": [\"Physics\", \"Programming\"],\n",
    "        \"grades\": {\n",
    "            \"Physics\": 95, \n",
    "            \"Programming\": 89\n",
    "        }\n",
    "    }\n",
    "}\n",
    "\n",
    "average_grades = {}\n",
    "\n",
    "for student, info in students.items():\n",
    "    total_grades = sum(info[\"grades\"].values())\n",
    "    num_courses = len(info[\"grades\"])\n",
    "    average_grades[student] = total_grades / num_courses\n",
    "print(average_grades)"
   ]
  }
 ],
 "metadata": {
  "kernelspec": {
   "display_name": "Python 3",
   "language": "python",
   "name": "python3"
  },
  "language_info": {
   "codemirror_mode": {
    "name": "ipython",
    "version": 3
   },
   "file_extension": ".py",
   "mimetype": "text/x-python",
   "name": "python",
   "nbconvert_exporter": "python",
   "pygments_lexer": "ipython3",
   "version": "3.12.7"
  }
 },
 "nbformat": 4,
 "nbformat_minor": 5
}
