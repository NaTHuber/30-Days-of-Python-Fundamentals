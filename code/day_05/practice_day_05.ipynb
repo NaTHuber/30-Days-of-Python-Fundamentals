{
 "cells": [
  {
   "cell_type": "markdown",
   "id": "97d2fc07",
   "metadata": {},
   "source": [
    "# Examples"
   ]
  },
  {
   "cell_type": "code",
   "execution_count": 1,
   "id": "691209da",
   "metadata": {},
   "outputs": [
    {
     "name": "stdout",
     "output_type": "stream",
     "text": [
      "The sum of the first 100 natural numbers is: 5050\n"
     ]
    }
   ],
   "source": [
    "# Sum of the first 100 natural numbers \n",
    "count = 0\n",
    "for i in range(1, 101):\n",
    "    count += i\n",
    "print(\"The sum of the first 100 natural numbers is:\", count)"
   ]
  },
  {
   "cell_type": "code",
   "execution_count": 2,
   "id": "448c701d",
   "metadata": {},
   "outputs": [
    {
     "name": "stdout",
     "output_type": "stream",
     "text": [
      "Incorrect password, try again.\n",
      "Password accepted.\n"
     ]
    }
   ],
   "source": [
    "# Password prompt \n",
    "password = ''\n",
    "attempts = 0\n",
    "\n",
    "while password != '1234' and attempts < 3:\n",
    "    password = input(\"Enter your password: \")\n",
    "    attempts += 1\n",
    "    if password != '1234':\n",
    "        print(\"Incorrect password, try again.\")\n",
    "    else:\n",
    "        print(\"Password accepted.\")\n"
   ]
  },
  {
   "cell_type": "markdown",
   "id": "12ebccc2",
   "metadata": {},
   "source": [
    "# Tasks \n",
    "\n",
    "1. Print all even numbers from 1 to 20 using a for loop.\n",
    "2. Use a while loop to ask for a number until the user enters 0.\n",
    "3. Iterate through a string and print each character.\n",
    "4. Write a program that prints the first number divisible by 7 and 5 between 100 and 150, then breaks.\n",
    "5. Sum the digits of a number using a while loop.\n",
    "6. Create a loop that prints a simple pyramid pattern like:\n",
    "\n",
    "    ```shell\n",
    "    *\n",
    "    **\n",
    "    ***\n",
    "    ****\n",
    "    ```"
   ]
  },
  {
   "cell_type": "code",
   "execution_count": 3,
   "id": "5804a491",
   "metadata": {},
   "outputs": [
    {
     "name": "stdout",
     "output_type": "stream",
     "text": [
      "2 4 6 8 10 12 14 16 18 20 "
     ]
    }
   ],
   "source": [
    "# Task 1\n",
    "for i in range(2,21,2):\n",
    "    print(i, end=' ')"
   ]
  },
  {
   "cell_type": "code",
   "execution_count": 4,
   "id": "8559f6c9",
   "metadata": {},
   "outputs": [
    {
     "name": "stdout",
     "output_type": "stream",
     "text": [
      "You entered: 99\n",
      "You entered: 12\n",
      "You entered: 1\n",
      "You entered 0, stopping the loop.\n"
     ]
    }
   ],
   "source": [
    "# Task 2\n",
    "\n",
    "number = 1 \n",
    "while number != 0:\n",
    "    number = int(input(\"Enter a integer number (0 to stop): \"))\n",
    "    if number != 0:\n",
    "        print(\"You entered:\", number)   \n",
    "    else:\n",
    "        print(\"You entered 0, stopping the loop.\")"
   ]
  },
  {
   "cell_type": "code",
   "execution_count": 5,
   "id": "201cee33",
   "metadata": {},
   "outputs": [
    {
     "name": "stdout",
     "output_type": "stream",
     "text": [
      "p y t h o n "
     ]
    }
   ],
   "source": [
    "# Task 3 \n",
    "\n",
    "word = 'python'\n",
    "for letter in word:\n",
    "    print(letter, end=' ')"
   ]
  },
  {
   "cell_type": "code",
   "execution_count": 6,
   "id": "1689c80b",
   "metadata": {},
   "outputs": [
    {
     "name": "stdout",
     "output_type": "stream",
     "text": [
      "105 "
     ]
    }
   ],
   "source": [
    "# Task 4 \n",
    "\n",
    "for i in range(100, 150):\n",
    "    if i % 5 == 0 and i % 7 == 0:\n",
    "        print(i, end=' ')\n",
    "        break"
   ]
  },
  {
   "cell_type": "code",
   "execution_count": 7,
   "id": "51456810",
   "metadata": {},
   "outputs": [
    {
     "name": "stdout",
     "output_type": "stream",
     "text": [
      "The sum of the digits is: 15\n"
     ]
    }
   ],
   "source": [
    "# Task 5 \n",
    "number = 12345\n",
    "sum_of_digits = 0\n",
    "while number > 0:  \n",
    "    digit = number % 10  # Get the last digit\n",
    "    sum_of_digits += digit  # Add it to the sum\n",
    "    number //= 10  # Remove the last digit \n",
    "print(\"The sum of the digits is:\", sum_of_digits)"
   ]
  },
  {
   "cell_type": "code",
   "execution_count": 8,
   "id": "bdd97a51",
   "metadata": {},
   "outputs": [
    {
     "name": "stdout",
     "output_type": "stream",
     "text": [
      "*\n",
      "**\n",
      "***\n",
      "****\n",
      "*****\n",
      "******\n",
      "*******\n",
      "********\n",
      "*********\n",
      "**********\n"
     ]
    }
   ],
   "source": [
    "# Task 6 \n",
    "\n",
    "end = 10\n",
    "char = '*' \n",
    "for i in range(1, end+1):\n",
    "    print(char * i)\n",
    "    "
   ]
  }
 ],
 "metadata": {
  "kernelspec": {
   "display_name": "Python 3",
   "language": "python",
   "name": "python3"
  },
  "language_info": {
   "codemirror_mode": {
    "name": "ipython",
    "version": 3
   },
   "file_extension": ".py",
   "mimetype": "text/x-python",
   "name": "python",
   "nbconvert_exporter": "python",
   "pygments_lexer": "ipython3",
   "version": "3.12.7"
  }
 },
 "nbformat": 4,
 "nbformat_minor": 5
}
