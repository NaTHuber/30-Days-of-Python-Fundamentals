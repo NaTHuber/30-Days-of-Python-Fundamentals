{
 "cells": [
  {
   "cell_type": "markdown",
   "id": "97d2fc07",
   "metadata": {},
   "source": [
    "# Examples"
   ]
  },
  {
   "cell_type": "code",
   "execution_count": 2,
   "id": "691209da",
   "metadata": {},
   "outputs": [
    {
     "name": "stdout",
     "output_type": "stream",
     "text": [
      "The sum of the first 100 natural numbers is: 5050\n"
     ]
    }
   ],
   "source": [
    "# Sum of the first 100 natural numbers \n",
    "count = 0\n",
    "for i in range(1, 101):\n",
    "    count += i\n",
    "print(\"The sum of the first 100 natural numbers is:\", count)"
   ]
  },
  {
   "cell_type": "code",
   "execution_count": 4,
   "id": "448c701d",
   "metadata": {},
   "outputs": [
    {
     "name": "stdout",
     "output_type": "stream",
     "text": [
      "Password accepted.\n"
     ]
    }
   ],
   "source": [
    "# Password prompt \n",
    "password = ''\n",
    "attempts = 0\n",
    "\n",
    "while password != '1234' and attempts < 3:\n",
    "    password = input(\"Enter your password: \")\n",
    "    attempts += 1\n",
    "    if password != '1234':\n",
    "        print(\"Incorrect password, try again.\")\n",
    "    else:\n",
    "        print(\"Password accepted.\")\n"
   ]
  },
  {
   "cell_type": "code",
   "execution_count": null,
   "id": "67f57380",
   "metadata": {},
   "outputs": [],
   "source": []
  }
 ],
 "metadata": {
  "kernelspec": {
   "display_name": "Python 3",
   "language": "python",
   "name": "python3"
  },
  "language_info": {
   "codemirror_mode": {
    "name": "ipython",
    "version": 3
   },
   "file_extension": ".py",
   "mimetype": "text/x-python",
   "name": "python",
   "nbconvert_exporter": "python",
   "pygments_lexer": "ipython3",
   "version": "3.12.7"
  }
 },
 "nbformat": 4,
 "nbformat_minor": 5
}
