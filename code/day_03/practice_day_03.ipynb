{
 "cells": [
  {
   "cell_type": "markdown",
   "id": "9133ec66",
   "metadata": {},
   "source": [
    "# Tasks \n",
    "\n",
    "1. Ask the user for their favorite color and print a response.\n",
    "2. Write a program that asks for two numbers and prints their sum.\n",
    "3. Ask the user for their name and age, then print a message like: \"Hi Ana, you are 30 years old. Next year you'll be 31.\"\n",
    "4. Write a short script that calculates the area of a triangle from user input (base and height).\n",
    "5. Create a small script that:\n",
    "    - Asks the user for their name, birth year, and city.\n",
    "    - Calculates their age.\n",
    "    - Prints a short \"profile summary\" using f-strings.\n",
    "    - Includes at least two inline comments and follows PEP 8 formatting."
   ]
  },
  {
   "cell_type": "code",
   "execution_count": 2,
   "id": "63cab673",
   "metadata": {},
   "outputs": [
    {
     "name": "stdout",
     "output_type": "stream",
     "text": [
      "Your favorite color is blue.\n"
     ]
    }
   ],
   "source": [
    "# Task 1 \n",
    "favorite_color = input(\"What is your favorite color? \")\n",
    "print(f\"Your favorite color is {favorite_color}.\")"
   ]
  },
  {
   "cell_type": "code",
   "execution_count": 3,
   "id": "1e115895",
   "metadata": {},
   "outputs": [
    {
     "name": "stdout",
     "output_type": "stream",
     "text": [
      "The sum of 1 and 56 is 57.\n"
     ]
    }
   ],
   "source": [
    "# Task 2\n",
    "number_1 = int(input(\"Enter the first number: \"))\n",
    "number_2 = int(input(\"Enter the second number: \"))\n",
    "sum_result = number_1 + number_2\n",
    "print(f\"The sum of {number_1} and {number_2} is {sum_result}.\")"
   ]
  },
  {
   "cell_type": "code",
   "execution_count": 4,
   "id": "95d90855",
   "metadata": {},
   "outputs": [
    {
     "name": "stdout",
     "output_type": "stream",
     "text": [
      "Hello Natalia, you are 26 years old.\n"
     ]
    }
   ],
   "source": [
    "# Task 3 \n",
    "name = input(\"What is your name? \")\n",
    "age = int(input(\"How old are you? \"))\n",
    "print(f\"Hello {name}, you are {age} years old.\")"
   ]
  },
  {
   "cell_type": "code",
   "execution_count": 5,
   "id": "f6bf20b9",
   "metadata": {},
   "outputs": [
    {
     "name": "stdout",
     "output_type": "stream",
     "text": [
      "The area of the triangle with base 4.0 and height 2.0 is 4.0.\n"
     ]
    }
   ],
   "source": [
    "# Task 4\n",
    "base = float(input(\"Enter the base of the triangle: \"))\n",
    "height = float(input(\"Enter the height of the triangle: \"))\n",
    "area = 0.5 * base * height\n",
    "print(f\"The area of the triangle with base {base} and height {height} is {area}.\")\n"
   ]
  },
  {
   "cell_type": "code",
   "execution_count": 7,
   "id": "1d72e7ef",
   "metadata": {},
   "outputs": [
    {
     "name": "stdout",
     "output_type": "stream",
     "text": [
      "Hello Natalia, you are 26 years old and you live in CDMX.\n"
     ]
    }
   ],
   "source": [
    "# Task 5\n",
    "\"\"\"\n",
    "This task combines user input for name, birth year, and city, \n",
    "calculates the age, and prints\n",
    "\"\"\"\n",
    "\n",
    "name = input(\"What is your name? \")\n",
    "birth_year = int(input(\"What is your birth year? \"))\n",
    "city = input(\"What city do you live in? \")\n",
    "current_year = 2025\n",
    "age = current_year - birth_year\n",
    "print(f\"Hello {name}, you are {age} years old and you live in {city}.\")\n",
    "\n"
   ]
  }
 ],
 "metadata": {
  "kernelspec": {
   "display_name": "Python 3",
   "language": "python",
   "name": "python3"
  },
  "language_info": {
   "codemirror_mode": {
    "name": "ipython",
    "version": 3
   },
   "file_extension": ".py",
   "mimetype": "text/x-python",
   "name": "python",
   "nbconvert_exporter": "python",
   "pygments_lexer": "ipython3",
   "version": "3.12.7"
  }
 },
 "nbformat": 4,
 "nbformat_minor": 5
}
