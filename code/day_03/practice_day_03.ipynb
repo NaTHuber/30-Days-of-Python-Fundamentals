{
 "cells": [
  {
   "cell_type": "markdown",
   "id": "9133ec66",
   "metadata": {},
   "source": [
    "# Tasks \n",
    "\n",
    "1. Ask the user for their favorite color and print a response.\n",
    "2. Write a program that asks for two numbers and prints their sum.\n",
    "3. Ask the user for their name and age, then print a message like: \"Hi Ana, you are 30 years old. Next year you'll be 31.\"\n",
    "4. Write a short script that calculates the area of a triangle from user input (base and height).\n",
    "5. Create a small script that:\n",
    "    - Asks the user for their name, birth year, and city.\n",
    "    - Calculates their age.\n",
    "    - Prints a short \"profile summary\" using f-strings.\n",
    "    - Includes at least two inline comments and follows PEP 8 formatting."
   ]
  },
  {
   "cell_type": "code",
   "execution_count": null,
   "id": "63cab673",
   "metadata": {},
   "outputs": [],
   "source": [
    "# Task 1 \n",
    "favorite_color = input(\"What is your favorite color? \")\n",
    "print(f\"Your favorite color is {favorite_color}.\")"
   ]
  },
  {
   "cell_type": "code",
   "execution_count": null,
   "id": "1e115895",
   "metadata": {},
   "outputs": [],
   "source": [
    "# Task 2\n",
    "number_1 = int(input(\"Enter the first number: \"))\n",
    "number_2 = int(input(\"Enter the second number: \"))\n",
    "sum_result = number_1 + number_2\n",
    "print(f\"The sum of {number_1} and {number_2} is {sum_result}.\")"
   ]
  },
  {
   "cell_type": "code",
   "execution_count": null,
   "id": "95d90855",
   "metadata": {},
   "outputs": [],
   "source": [
    "# Task 3 \n",
    "name = input(\"What is your name? \")\n",
    "age = int(input(\"How old are you? \"))\n",
    "print(f\"Hello {name}, you are {age} years old.\")"
   ]
  },
  {
   "cell_type": "code",
   "execution_count": null,
   "id": "f6bf20b9",
   "metadata": {},
   "outputs": [],
   "source": [
    "# Task 4\n",
    "base = float(input(\"Enter the base of the triangle: \"))\n",
    "height = float(input(\"Enter the height of the triangle: \"))\n",
    "area = 0.5 * base * height\n",
    "print(f\"The area of the triangle with base {base} and height {height} is {area}.\")\n"
   ]
  },
  {
   "cell_type": "code",
   "execution_count": null,
   "id": "1d72e7ef",
   "metadata": {},
   "outputs": [],
   "source": [
    "# Task 5\n",
    "\"\"\"\n",
    "This task combines user input for name, birth year, and city, \n",
    "calculates the age, and prints\n",
    "\"\"\"\n",
    "\n",
    "name = input(\"What is your name? \")\n",
    "birth_year = int(input(\"What is your birth year? \"))\n",
    "city = input(\"What city do you live in? \")\n",
    "current_year = 2023\n",
    "age = current_year - birth_year\n",
    "print(f\"Hello {name}, you are {age} years old and you live in {city}.\")\n",
    "\n"
   ]
  }
 ],
 "metadata": {
  "kernelspec": {
   "display_name": "Python 3",
   "language": "python",
   "name": "python3"
  },
  "language_info": {
   "name": "python",
   "version": "3.12.7"
  }
 },
 "nbformat": 4,
 "nbformat_minor": 5
}
