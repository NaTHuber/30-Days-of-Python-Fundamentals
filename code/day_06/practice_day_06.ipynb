{
 "cells": [
  {
   "cell_type": "markdown",
   "id": "132a27e9",
   "metadata": {},
   "source": [
    "# Tasks \n",
    "\n",
    "1. Write a function `hello()` that prints `Hello, world!`\n",
    "2. Create a function `double(x)` that returns the double of a number\n",
    "3. Write a function `is_even(n)` that returns `True` if a number is even, else `False`\n",
    "4. Write a function `factorial(n)` that returns the factorial of a number using a loop\n",
    "5. Write a function `summarize_list(lst)` that returns the sum, average, and max of a list\n",
    "6. Write a function `count_vowels(text)` that returns the number of vowels in a string"
   ]
  },
  {
   "cell_type": "code",
   "execution_count": 2,
   "id": "f98f2e79",
   "metadata": {},
   "outputs": [
    {
     "name": "stdout",
     "output_type": "stream",
     "text": [
      "Hello, World!\n"
     ]
    }
   ],
   "source": [
    "# Task 1\n",
    "def hello_world():\n",
    "    print(\"Hello, World!\")\n",
    "hello_world()"
   ]
  },
  {
   "cell_type": "code",
   "execution_count": 4,
   "id": "d94b5c48",
   "metadata": {},
   "outputs": [
    {
     "name": "stdout",
     "output_type": "stream",
     "text": [
      "20\n"
     ]
    }
   ],
   "source": [
    "# Task 2\n",
    "def double_number(num):\n",
    "    return num * 2\n",
    "print(double_number(10))  "
   ]
  },
  {
   "cell_type": "code",
   "execution_count": null,
   "id": "98edca08",
   "metadata": {},
   "outputs": [
    {
     "name": "stdout",
     "output_type": "stream",
     "text": [
      "True\n"
     ]
    }
   ],
   "source": [
    "# Task 3\n",
    "def is_even(num):\n",
    "    if num % 2 == 0:\n",
    "        return True\n",
    "    else:\n",
    "        return False\n",
    "\n",
    "print(is_even(4))  "
   ]
  },
  {
   "cell_type": "code",
   "execution_count": 7,
   "id": "86276a27",
   "metadata": {},
   "outputs": [
    {
     "name": "stdout",
     "output_type": "stream",
     "text": [
      "120\n"
     ]
    }
   ],
   "source": [
    "# Task 4\n",
    "\n",
    "def factorial(n):\n",
    "    if n == 0 or n == 1:\n",
    "        return 1\n",
    "    else:\n",
    "        result = 1\n",
    "        for i in range(2, n + 1):\n",
    "            result *= i\n",
    "        return result\n",
    "\n",
    "print(factorial(5))  "
   ]
  },
  {
   "cell_type": "code",
   "execution_count": null,
   "id": "5205b571",
   "metadata": {},
   "outputs": [
    {
     "name": "stdout",
     "output_type": "stream",
     "text": [
      "(15, 3.0, 5, 1)\n"
     ]
    }
   ],
   "source": [
    "# Task 5 \n",
    "def summarize_list(lst):\n",
    "    total = sum(lst)\n",
    "    average = total / len(lst) if lst else 0\n",
    "    maximum = max(lst) if lst else None\n",
    "    minimum = min(lst) if lst else None\n",
    "    return total, average, maximum, minimum\n",
    "\n",
    "print(summarize_list([1, 2, 3, 4, 5]))"
   ]
  },
  {
   "cell_type": "code",
   "execution_count": 13,
   "id": "5d29ebbe",
   "metadata": {},
   "outputs": [
    {
     "name": "stdout",
     "output_type": "stream",
     "text": [
      "4\n"
     ]
    }
   ],
   "source": [
    "# Task 6 \n",
    "def count_vowels(s):\n",
    "    vowels = 'aeiouAEIOU'\n",
    "    count = sum(1 for char in s if char in vowels)\n",
    "    return count\n",
    "print(count_vowels(\"Natalia\"))"
   ]
  }
 ],
 "metadata": {
  "kernelspec": {
   "display_name": "Python 3",
   "language": "python",
   "name": "python3"
  },
  "language_info": {
   "codemirror_mode": {
    "name": "ipython",
    "version": 3
   },
   "file_extension": ".py",
   "mimetype": "text/x-python",
   "name": "python",
   "nbconvert_exporter": "python",
   "pygments_lexer": "ipython3",
   "version": "3.12.7"
  }
 },
 "nbformat": 4,
 "nbformat_minor": 5
}
