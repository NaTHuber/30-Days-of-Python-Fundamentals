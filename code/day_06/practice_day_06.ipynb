{
 "cells": [
  {
   "cell_type": "markdown",
   "id": "132a27e9",
   "metadata": {},
   "source": [
    "# Tasks \n",
    "\n",
    "1. Write a function hello() that prints “Hello, world!”\n",
    "2. Create a function double(x) that returns the double of a   number\n",
    "3. Write a function is_even(n) that returns True if a number is even, else False\n",
    "4. Write a function factorial(n) that returns the factorial of a number using a loop\n",
    "5. Write a function summarize_list(lst) that returns the sum, average, and max of a list\n",
    "6. Write a function count_vowels(text) that returns the number of vowels in a string"
   ]
  }
 ],
 "metadata": {
  "kernelspec": {
   "display_name": "Python 3",
   "language": "python",
   "name": "python3"
  },
  "language_info": {
   "name": "python",
   "version": "3.12.7"
  }
 },
 "nbformat": 4,
 "nbformat_minor": 5
}
