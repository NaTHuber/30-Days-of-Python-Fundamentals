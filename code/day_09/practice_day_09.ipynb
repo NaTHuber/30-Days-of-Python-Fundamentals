{
 "cells": [
  {
   "cell_type": "markdown",
   "id": "02d2cbb3",
   "metadata": {},
   "source": [
    "# Tasks \n",
    "1. Create a tuple with your full name (first, middle, last) and unpack it into variables. Print them individually.\n",
    "2. Try changing an element of a tuple and see what happens.\n",
    "3. Given a sentence, use a set to count how many unique words it has. \n",
    "    \n",
    "    sentence = \"python is fun and python is powerful\"\n",
    "    \n",
    "4. You have two sets of favorite movies:\n",
    "\n",
    "        `my_movies = {\"Inception\", \"Interstellar\", \"The Matrix\"}`\n",
    "        `friend_movies = {\"Interstellar\", \"The Matrix\", \"Avatar\"}`\n",
    "\n",
    "    Find movies you both like.\n",
    "\n",
    "    Find movies only you like.\n",
    "\n",
    "    Find all unique movies between you and your friend.\n",
    "\n",
    "5. Write a function `remove_duplicates(lst)` that returns a list with duplicates removed."
   ]
  },
  {
   "cell_type": "code",
   "execution_count": null,
   "id": "4725fe1f",
   "metadata": {},
   "outputs": [
    {
     "name": "stdout",
     "output_type": "stream",
     "text": [
      "Name: Natalia, Surname: Baez, Middle Name: De La Luz\n"
     ]
    }
   ],
   "source": [
    "# Task 1. \n",
    "full_name = ('Natalia', 'Baez', 'De La Luz')\n",
    "name, surname, middle_name = full_name\n",
    "print(f\"Name: {name}, Surname: {surname}, Middle Name: {middle_name}\")"
   ]
  },
  {
   "cell_type": "code",
   "execution_count": null,
   "id": "84c9d3d1",
   "metadata": {},
   "outputs": [
    {
     "ename": "TypeError",
     "evalue": "'tuple' object does not support item assignment",
     "output_type": "error",
     "traceback": [
      "\u001b[1;31m---------------------------------------------------------------------------\u001b[0m",
      "\u001b[1;31mTypeError\u001b[0m                                 Traceback (most recent call last)",
      "Cell \u001b[1;32mIn[3], line 3\u001b[0m\n\u001b[0;32m      1\u001b[0m \u001b[38;5;66;03m# Task 2.\u001b[39;00m\n\u001b[0;32m      2\u001b[0m my_tuple \u001b[38;5;241m=\u001b[39m (\u001b[38;5;241m1\u001b[39m,\u001b[38;5;241m2\u001b[39m,\u001b[38;5;241m3\u001b[39m)\n\u001b[1;32m----> 3\u001b[0m \u001b[43mmy_tuple\u001b[49m\u001b[43m[\u001b[49m\u001b[38;5;241;43m1\u001b[39;49m\u001b[43m]\u001b[49m \u001b[38;5;241m=\u001b[39m \u001b[38;5;241m6\u001b[39m\n",
      "\u001b[1;31mTypeError\u001b[0m: 'tuple' object does not support item assignment"
     ]
    }
   ],
   "source": [
    "# Task 2.\n",
    "my_tuple = (1,2,3)\n",
    "my_tuple[1] = 6 # This will raise a TypeError because tuples are immutable.\n"
   ]
  },
  {
   "cell_type": "code",
   "execution_count": 5,
   "id": "2aae6cbf",
   "metadata": {},
   "outputs": [
    {
     "name": "stdout",
     "output_type": "stream",
     "text": [
      "Unique words: {'fun', 'and', 'is', 'powerful', 'python'}\n",
      "Number of unique words: 5\n"
     ]
    }
   ],
   "source": [
    "# Task 3\n",
    "sentence = \"python is fun and python is powerful\"\n",
    "unique_words = set(sentence.split())\n",
    "print(f\"Unique words: {unique_words}\")\n",
    "print(f\"Number of unique words: {len(unique_words)}\")"
   ]
  },
  {
   "cell_type": "code",
   "execution_count": 8,
   "id": "28b5e4e5",
   "metadata": {},
   "outputs": [
    {
     "name": "stdout",
     "output_type": "stream",
     "text": [
      "Common movies: {'The Matrix', 'Interstellar'}\n",
      "Movies not in friend's list: {'Inception'}\n",
      "Unique movies: {'Interstellar', 'Avatar', 'The Matrix', 'Inception'}\n"
     ]
    }
   ],
   "source": [
    "# Task 4.\n",
    "my_movies = {\"Inception\", \"Interstellar\", \"The Matrix\"}\n",
    "friend_movies = {\"Interstellar\", \"The Matrix\", \"Avatar\"}\n",
    "common_movies = my_movies & friend_movies\n",
    "only_in_my_movies = my_movies - friend_movies\n",
    "unique_movies = my_movies | friend_movies\n",
    "\n",
    "print(f\"Common movies: {common_movies}\")\n",
    "print(f\"Movies not in friend's list: {only_in_my_movies}\")\n",
    "print(f\"Unique movies: {unique_movies}\")\n"
   ]
  },
  {
   "cell_type": "code",
   "execution_count": 9,
   "id": "5393ddb1",
   "metadata": {},
   "outputs": [
    {
     "name": "stdout",
     "output_type": "stream",
     "text": [
      "List without duplicates: [1, 2, 3, 4, 5]\n"
     ]
    }
   ],
   "source": [
    "# Task 5 \n",
    "def remove_duplicates(lst):\n",
    "    return list(set(lst))\n",
    "list_with_duplicates = [1, 2, 2, 3, 4, 4, 5]\n",
    "print(f\"List without duplicates: {remove_duplicates(list_with_duplicates)}\")"
   ]
  }
 ],
 "metadata": {
  "kernelspec": {
   "display_name": "Python 3",
   "language": "python",
   "name": "python3"
  },
  "language_info": {
   "codemirror_mode": {
    "name": "ipython",
    "version": 3
   },
   "file_extension": ".py",
   "mimetype": "text/x-python",
   "name": "python",
   "nbconvert_exporter": "python",
   "pygments_lexer": "ipython3",
   "version": "3.12.7"
  }
 },
 "nbformat": 4,
 "nbformat_minor": 5
}
