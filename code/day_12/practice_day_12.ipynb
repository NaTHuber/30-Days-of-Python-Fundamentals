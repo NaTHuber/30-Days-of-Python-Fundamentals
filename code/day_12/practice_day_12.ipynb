{
 "cells": [
  {
   "cell_type": "markdown",
   "id": "31b0bcf2",
   "metadata": {},
   "source": [
    "# Tasks \n",
    "1. Basic Reading: Create a file hello.txt with some text. Write a script that opens it and prints its contents.\n",
    "2. Line Counter: Write a program that counts the number of lines in a file.\n",
    "3. Copy File: Write a script that reads a file and writes its content into another file (copy.txt).\n",
    "4. Append Logger: Create a script that appends a new line with today’s date and a message into log.txt.\n",
    "5. Word Frequency: Write a program that reads a text file and counts how many times each word appears."
   ]
  },
  {
   "cell_type": "code",
   "execution_count": 1,
   "id": "812fb67d",
   "metadata": {},
   "outputs": [
    {
     "name": "stdout",
     "output_type": "stream",
     "text": [
      "Hallo, Marcel!\n",
      "Love u \n"
     ]
    }
   ],
   "source": [
    "with open(\"hello.txt\", \"r\") as file:\n",
    "    content = file.read()\n",
    "    print(content)"
   ]
  },
  {
   "cell_type": "code",
   "execution_count": 2,
   "id": "ded9b08f",
   "metadata": {},
   "outputs": [
    {
     "name": "stdout",
     "output_type": "stream",
     "text": [
      "2\n"
     ]
    }
   ],
   "source": [
    "with open(\"hello.txt\",\"r\") as file:\n",
    "    count = 0\n",
    "    for line in file:\n",
    "        count += 1\n",
    "    print(count)"
   ]
  },
  {
   "cell_type": "code",
   "execution_count": 5,
   "id": "0c8f434a",
   "metadata": {},
   "outputs": [
    {
     "name": "stdout",
     "output_type": "stream",
     "text": [
      "Content copied to copy_hello.txt\n",
      "Hallo, Marcel!\n",
      "Love u \n"
     ]
    }
   ],
   "source": [
    "# Task 3. Copy the content of a file to another file\n",
    "with open(\"hello.txt\", \"r\") as source_file:\n",
    "    content = source_file.read()\n",
    "with open(\"copy_hello.txt\", \"w\") as dest_file:\n",
    "    dest_file.write(content)\n",
    "    print(\"Content copied to copy_hello.txt\")\n",
    "with open(\"copy_hello.txt\", \"r\") as file:\n",
    "    print(file.read())"
   ]
  },
  {
   "cell_type": "code",
   "execution_count": 7,
   "id": "a9f87b30",
   "metadata": {},
   "outputs": [
    {
     "name": "stdout",
     "output_type": "stream",
     "text": [
      "10 log lines written to logs.txt\n",
      "Appended a log line to logs.txt\n",
      "This is log line 1\n",
      "This is log line 2\n",
      "This is log line 3\n",
      "This is log line 4\n",
      "This is log line 5\n",
      "This is log line 6\n",
      "This is log line 7\n",
      "This is log line 8\n",
      "This is log line 9\n",
      "This is log line 10\n",
      "This is an appended log line.\n",
      "\n"
     ]
    }
   ],
   "source": [
    "with open(\"logs.txt\", \"w\") as file:\n",
    "    for i in range(1, 11):\n",
    "        file.write(f\"This is log line {i}\\n\")\n",
    "    print(\"10 log lines written to logs.txt\")\n",
    "with open(\"logs.txt\",\"a\") as file:\n",
    "    file.write(\"This is an appended log line.\\n\")\n",
    "    print(\"Appended a log line to logs.txt\")\n",
    "with open(\"logs.txt\", \"r\") as file:\n",
    "    print(file.read())"
   ]
  }
 ],
 "metadata": {
  "kernelspec": {
   "display_name": "Python 3",
   "language": "python",
   "name": "python3"
  },
  "language_info": {
   "codemirror_mode": {
    "name": "ipython",
    "version": 3
   },
   "file_extension": ".py",
   "mimetype": "text/x-python",
   "name": "python",
   "nbconvert_exporter": "python",
   "pygments_lexer": "ipython3",
   "version": "3.12.7"
  }
 },
 "nbformat": 4,
 "nbformat_minor": 5
}
