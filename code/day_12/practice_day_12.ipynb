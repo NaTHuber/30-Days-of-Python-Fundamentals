{
 "cells": [
  {
   "cell_type": "markdown",
   "id": "31b0bcf2",
   "metadata": {},
   "source": [
    "# Tasks \n",
    "1. Basic Reading: Create a file hello.txt with some text. Write a script that opens it and prints its contents.\n",
    "2. Line Counter: Write a program that counts the number of lines in a file.\n",
    "3. Copy File: Write a script that reads a file and writes its content into another file (copy.txt).\n",
    "4. Append Logger: Create a script that appends a new line with today’s date and a message into log.txt.\n",
    "5. Word Frequency: Write a program that reads a text file and counts how many times each word appears."
   ]
  },
  {
   "cell_type": "code",
   "execution_count": 1,
   "id": "812fb67d",
   "metadata": {},
   "outputs": [
    {
     "name": "stdout",
     "output_type": "stream",
     "text": [
      "Hallo, Marcel!\n",
      "Love u \n"
     ]
    }
   ],
   "source": [
    "with open(\"hello.txt\", \"r\") as file:\n",
    "    content = file.read()\n",
    "    print(content)"
   ]
  }
 ],
 "metadata": {
  "kernelspec": {
   "display_name": "Python 3",
   "language": "python",
   "name": "python3"
  },
  "language_info": {
   "codemirror_mode": {
    "name": "ipython",
    "version": 3
   },
   "file_extension": ".py",
   "mimetype": "text/x-python",
   "name": "python",
   "nbconvert_exporter": "python",
   "pygments_lexer": "ipython3",
   "version": "3.12.7"
  }
 },
 "nbformat": 4,
 "nbformat_minor": 5
}
