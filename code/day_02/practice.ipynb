{
 "cells": [
  {
   "cell_type": "markdown",
   "id": "814242a7-1c3a-45c9-bc16-bc473adac4a5",
   "metadata": {},
   "source": [
    "# Tasks\n",
    "\n",
    "- Write a program that prints your name, age and country \n",
    "- Set three variables: a string, a number, and a boolean \n",
    "- Write a program that prints a four-line poem \n",
    "- Chage the value of a variable print its value before and after the change.\n",
    "- Create a variable celsius_temperature, set a value, and then print the conversion to Fahrenheit \n"
   ]
  },
  {
   "cell_type": "code",
   "execution_count": null,
   "id": "2dbc30ab-e048-41ba-96a7-cb7ac4371f92",
   "metadata": {},
   "outputs": [
    {
     "name": "stdout",
     "output_type": "stream",
     "text": [
      "My name is Natalia, I am 26 years old. I live in México\n"
     ]
    }
   ],
   "source": [
    "# Task 1st\n",
    "name = 'Natalia'\n",
    "age = 26\n",
    "country = 'México'\n",
    "print(f\"My name is {name}, I am {age} years old. I live in {country}\")"
   ]
  },
  {
   "cell_type": "code",
   "execution_count": 3,
   "id": "c9929473-cdbe-4edf-9b41-14fa4d35ac89",
   "metadata": {},
   "outputs": [],
   "source": [
    "# Task 2nd \n",
    "string = 'Hallo'\n",
    "number = 10\n",
    "boolean = True "
   ]
  },
  {
   "cell_type": "code",
   "execution_count": 11,
   "id": "04d537ed-c1eb-4c50-8d5e-09719a051f34",
   "metadata": {},
   "outputs": [
    {
     "name": "stdout",
     "output_type": "stream",
     "text": [
      "Hola, ¿tienes hambre? \n",
      "Escucho una voz muy dulce y huele bien. \n",
      "¡Qué ojos tan bonitos!¡Color limón! -me dijo.\n",
      "Vámonos a casa, Limón.\n"
     ]
    }
   ],
   "source": [
    "# Task 3rd \n",
    "print(\"Hola, ¿tienes hambre? \\nEscucho una voz muy dulce y huele bien. \\n¡Qué ojos tan bonitos!¡Color limón! -me dijo.\\nVámonos a casa, Limón.\")"
   ]
  },
  {
   "cell_type": "code",
   "execution_count": 13,
   "id": "42f54cb4-fd22-4a2a-8cae-a4e3e9acfac2",
   "metadata": {},
   "outputs": [
    {
     "name": "stdout",
     "output_type": "stream",
     "text": [
      "My variable before:  29\n",
      "The type of my variable before:  <class 'int'>\n",
      "My variable after:  patos\n",
      "The type of my variable after:  <class 'str'>\n"
     ]
    }
   ],
   "source": [
    "# Task 4th\n",
    "a = 29\n",
    "print('My variable before: ', a)\n",
    "print('The type of my variable before: ', type(a))\n",
    "a = 'patos'\n",
    "print('My variable after: ', a)\n",
    "print('The type of my variable after: ', type(a))"
   ]
  },
  {
   "cell_type": "code",
   "execution_count": 14,
   "id": "5bc522ee-7e25-46c8-bf6a-a185b7bb8bdd",
   "metadata": {},
   "outputs": [
    {
     "name": "stdout",
     "output_type": "stream",
     "text": [
      "This is my temperature in celsius 20 and this is my temperature in fahrenheit 68.0\n"
     ]
    }
   ],
   "source": [
    "# Task 5th\n",
    "celsius_temperature = 20\n",
    "fahrenheit_temperature = celsius_temperature* 1.8 + 32\n",
    "print(f\"This is my temperature in celsius {celsius_temperature} and this is my temperature in fahrenheit {fahrenheit_temperature}\")"
   ]
  }
 ],
 "metadata": {
  "kernelspec": {
   "display_name": "Python 3 (ipykernel)",
   "language": "python",
   "name": "python3"
  },
  "language_info": {
   "codemirror_mode": {
    "name": "ipython",
    "version": 3
   },
   "file_extension": ".py",
   "mimetype": "text/x-python",
   "name": "python",
   "nbconvert_exporter": "python",
   "pygments_lexer": "ipython3",
   "version": "3.12.7"
  }
 },
 "nbformat": 4,
 "nbformat_minor": 5
}
