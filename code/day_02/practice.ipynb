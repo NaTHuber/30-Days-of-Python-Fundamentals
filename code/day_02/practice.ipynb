{
 "cells": [
  {
   "cell_type": "markdown",
   "id": "1856694c",
   "metadata": {},
   "source": [
    "# Examples "
   ]
  },
  {
   "cell_type": "code",
   "execution_count": 1,
   "id": "c36007a8",
   "metadata": {},
   "outputs": [
    {
     "name": "stdout",
     "output_type": "stream",
     "text": [
      "<class 'str'>\n",
      "<class 'int'>\n",
      "3.3333333333333335\n",
      "3\n",
      "1000\n",
      "True\n"
     ]
    }
   ],
   "source": [
    "# Type checking\n",
    "name = \"Natalia\"\n",
    "age = 26\n",
    "print(type(name)) \n",
    "print(type(age))   \n",
    "\n",
    "# Arithmetic\n",
    "a = 10\n",
    "b = 3\n",
    "print(a / b)     \n",
    "print(a // b)    \n",
    "print(a ** b)    \n",
    "\n",
    "# Boolean logic\n",
    "is_happy = True\n",
    "is_tired = False\n",
    "print(is_happy and not is_tired) \n"
   ]
  },
  {
   "cell_type": "markdown",
   "id": "814242a7-1c3a-45c9-bc16-bc473adac4a5",
   "metadata": {},
   "source": [
    "# Tasks\n",
    "\n",
    "1. Create variables with different data types and print their types.\n",
    "2. Calculate the area and perimeter of a rectangle.\n",
    "3. Check if a number is even or odd using %.\n",
    "4. Compare two numbers using all comparison operators.\n",
    "5. Create a variable with a sentence and check if a word is in it using in and set a = 1 and c= 1.0 and use  `is` to compare them\n",
    "6. Simulate a logical circuit:\n",
    "    `(A and B) or (not C) for values A = True, B = False, C = True`\n"
   ]
  },
  {
   "cell_type": "code",
   "execution_count": 2,
   "id": "4fc7cab5",
   "metadata": {},
   "outputs": [
    {
     "name": "stdout",
     "output_type": "stream",
     "text": [
      "26 <class 'int'>\n",
      "Hallo <class 'str'>\n",
      "True <class 'bool'>\n",
      "3.1416 <class 'float'>\n",
      "[1, 2, 3] <class 'list'>\n",
      "{'cat': 1, 'dog': 2, 'bird': 3} <class 'dict'>\n",
      "{'a', 'b', 'c'} <class 'set'>\n"
     ]
    }
   ],
   "source": [
    "# Task 1\n",
    "age = 26\n",
    "greeting = 'Hallo'\n",
    "is_tired = True \n",
    "pi = 3.1416\n",
    "numbers = [1,2,3]\n",
    "animals = {'cat': 1, 'dog': 2, 'bird': 3}\n",
    "options = {'a', 'b', 'c'}\n",
    "\n",
    "print(age, type(age))\n",
    "print(greeting, type(greeting))\n",
    "print(is_tired, type(is_tired))\n",
    "print(pi, type(pi))\n",
    "print(numbers, type(numbers))\n",
    "print(animals, type(animals))\n",
    "print(options, type(options))"
   ]
  },
  {
   "cell_type": "code",
   "execution_count": 3,
   "id": "614fc374",
   "metadata": {},
   "outputs": [
    {
     "name": "stdout",
     "output_type": "stream",
     "text": [
      "The area of my rectangle is 50 and its perimeter is 30\n"
     ]
    }
   ],
   "source": [
    "# Task 2 \n",
    "\n",
    "length = 5 \n",
    "breadth = 10 \n",
    "\n",
    "area = length*breadth\n",
    "perimeter = 2*(length + breadth)\n",
    "\n",
    "print(f\"The area of my rectangle is {area} and its perimeter is {perimeter}\")"
   ]
  },
  {
   "cell_type": "code",
   "execution_count": 4,
   "id": "c7b886a8",
   "metadata": {},
   "outputs": [
    {
     "name": "stdout",
     "output_type": "stream",
     "text": [
      "Your number is odd\n"
     ]
    }
   ],
   "source": [
    "# Task 3 \n",
    "number = 11\n",
    "result = number%2\n",
    "if result == 0:\n",
    "    print('Your nomber is even')\n",
    "else:\n",
    "    print('Your number is odd')"
   ]
  },
  {
   "cell_type": "code",
   "execution_count": 5,
   "id": "0d782e18",
   "metadata": {},
   "outputs": [
    {
     "name": "stdout",
     "output_type": "stream",
     "text": [
      "False\n",
      "True\n",
      "True\n",
      "False\n",
      "True\n",
      "False\n",
      "Comparison of types: True\n",
      "Lets try an interesting example\n",
      "True\n",
      "False\n",
      "True\n",
      "True\n",
      "False\n",
      "False\n",
      "Comparison of types: False\n"
     ]
    }
   ],
   "source": [
    "# Task 4 \n",
    "\n",
    "a = 1\n",
    "b = 2\n",
    "\n",
    "print(a == b)\n",
    "print(a != b)\n",
    "print(a <= b)\n",
    "print(a >= b)\n",
    "print(a < b)\n",
    "print(a > b)\n",
    "print('Comparison of types:', type(a)==type(b))\n",
    "\n",
    "print('Lets try an interesting example')\n",
    "c = 1.0 \n",
    "print(a == c)\n",
    "print(a != c)\n",
    "print(a <= c)\n",
    "print(a >= c)\n",
    "print(a < c)\n",
    "print(a > c)\n",
    "print('Comparison of types:', type(a)==type(c))\n"
   ]
  },
  {
   "cell_type": "code",
   "execution_count": 6,
   "id": "a0d44b66",
   "metadata": {},
   "outputs": [
    {
     "name": "stdout",
     "output_type": "stream",
     "text": [
      "True\n",
      "False\n"
     ]
    }
   ],
   "source": [
    "# Task 5\n",
    "sentence = 'Hoy mi día es bonito'\n",
    "word = 'día'\n",
    "\n",
    "result = word in sentence\n",
    "print(result)\n",
    "\n",
    "a = 1; c = 1.0 \n",
    "print(a is c)"
   ]
  },
  {
   "cell_type": "code",
   "execution_count": 7,
   "id": "0f0bd678",
   "metadata": {},
   "outputs": [
    {
     "name": "stdout",
     "output_type": "stream",
     "text": [
      "False\n"
     ]
    }
   ],
   "source": [
    "# Task 6 \n",
    "# (A and B) or (not C) for values A = True, B = False, C = True\n",
    "\n",
    "A = True; B = False; C = True\n",
    "\n",
    "result = ((A and B) or (not C))\n",
    "\n",
    "print(result)"
   ]
  }
 ],
 "metadata": {
  "kernelspec": {
   "display_name": "Python 3",
   "language": "python",
   "name": "python3"
  },
  "language_info": {
   "codemirror_mode": {
    "name": "ipython",
    "version": 3
   },
   "file_extension": ".py",
   "mimetype": "text/x-python",
   "name": "python",
   "nbconvert_exporter": "python",
   "pygments_lexer": "ipython3",
   "version": "3.12.7"
  }
 },
 "nbformat": 4,
 "nbformat_minor": 5
}
