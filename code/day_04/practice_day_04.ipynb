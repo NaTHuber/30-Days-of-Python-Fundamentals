{
 "cells": [
  {
   "cell_type": "markdown",
   "id": "fdd9f953",
   "metadata": {},
   "source": [
    "# Tasks \n",
    "\n",
    "1. Write a program that checks if a number is positive, negative, or zero.\n",
    "2. Ask a user for their age and classify them as child, teenager or adult.\n",
    "3. Create a program that determines if a year is a leap year.\n",
    "4. Write a program that simulates a basic login system (hardcode username/password)."
   ]
  },
  {
   "cell_type": "code",
   "execution_count": 3,
   "id": "ccc44fc7",
   "metadata": {},
   "outputs": [
    {
     "name": "stdout",
     "output_type": "stream",
     "text": [
      "The number is negative.\n"
     ]
    }
   ],
   "source": [
    "# Task 1 \n",
    "number = -1\n",
    "\n",
    "if number == 0:\n",
    "    print(\"The number is zero.\")\n",
    "elif number > 0:\n",
    "    print(\"The number is positive.\")\n",
    "else:\n",
    "    print(\"The number is negative.\")"
   ]
  },
  {
   "cell_type": "code",
   "execution_count": 9,
   "id": "1cc7b110",
   "metadata": {},
   "outputs": [
    {
     "name": "stdout",
     "output_type": "stream",
     "text": [
      "You are a child.\n"
     ]
    }
   ],
   "source": [
    "# Task 2\n",
    "age = 11\n",
    "\n",
    "if age < 0:\n",
    "    print(\"Age cannot be negative.\")\n",
    "elif age <= 12:\n",
    "    print(\"You are a child.\")\n",
    "elif age <= 19:\n",
    "    print(\"You are a teenager.\")\n",
    "else:\n",
    "    print(\"You are an adult.\")"
   ]
  },
  {
   "cell_type": "code",
   "execution_count": 10,
   "id": "78774d1f",
   "metadata": {},
   "outputs": [
    {
     "name": "stdout",
     "output_type": "stream",
     "text": [
      "February has 28 days in a common year.\n"
     ]
    }
   ],
   "source": [
    "# Task 3\n",
    "\n",
    "number_days_february = 28\n",
    "\n",
    "if number_days_february == 28:\n",
    "    print(\"February has 28 days in a common year.\")\n",
    "elif number_days_february == 29:\n",
    "    print(\"February has 29 days in a leap year.\")\n",
    "else:\n",
    "    print(\"Invalid number of days for February.\")"
   ]
  },
  {
   "cell_type": "code",
   "execution_count": 13,
   "id": "511c5b41",
   "metadata": {},
   "outputs": [
    {
     "name": "stdout",
     "output_type": "stream",
     "text": [
      "Welcome to your account!\n"
     ]
    }
   ],
   "source": [
    "user_name  = \"NaTHuber\"\n",
    "password = \"123456\"\n",
    "\n",
    "if user_name == \"NaTHuber\" and password == \"123456\":\n",
    "    print(\"Welcome to your account!\")\n",
    "else:\n",
    "    print(\"Invalid username or password. Please try again.\")"
   ]
  }
 ],
 "metadata": {
  "kernelspec": {
   "display_name": "Python 3",
   "language": "python",
   "name": "python3"
  },
  "language_info": {
   "codemirror_mode": {
    "name": "ipython",
    "version": 3
   },
   "file_extension": ".py",
   "mimetype": "text/x-python",
   "name": "python",
   "nbconvert_exporter": "python",
   "pygments_lexer": "ipython3",
   "version": "3.12.7"
  }
 },
 "nbformat": 4,
 "nbformat_minor": 5
}
